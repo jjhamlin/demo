{
 "cells": [
  {
   "cell_type": "code",
   "execution_count": 1,
   "id": "4183bb08-c227-45fc-acea-02f0c22574bd",
   "metadata": {},
   "outputs": [],
   "source": [
    "import numpy as np\n",
    "import pandas as pd\n",
    "import matplotlib.pyplot as plt"
   ]
  },
  {
   "cell_type": "code",
   "execution_count": 2,
   "id": "35094099-3b6b-4a72-8258-ba903fe8d62a",
   "metadata": {},
   "outputs": [
    {
     "data": {
      "text/html": [
       "<div>\n",
       "<style scoped>\n",
       "    .dataframe tbody tr th:only-of-type {\n",
       "        vertical-align: middle;\n",
       "    }\n",
       "\n",
       "    .dataframe tbody tr th {\n",
       "        vertical-align: top;\n",
       "    }\n",
       "\n",
       "    .dataframe thead th {\n",
       "        text-align: right;\n",
       "    }\n",
       "</style>\n",
       "<table border=\"1\" class=\"dataframe\">\n",
       "  <thead>\n",
       "    <tr style=\"text-align: right;\">\n",
       "      <th></th>\n",
       "      <th>Plow</th>\n",
       "      <th>P(GPa)</th>\n",
       "      <th>Phigh</th>\n",
       "      <th>Tlow</th>\n",
       "      <th>T(K)</th>\n",
       "      <th>Thigh</th>\n",
       "    </tr>\n",
       "  </thead>\n",
       "  <tbody>\n",
       "    <tr>\n",
       "      <th>0</th>\n",
       "      <td>6.2</td>\n",
       "      <td>7.6</td>\n",
       "      <td>8.0</td>\n",
       "      <td>1.540</td>\n",
       "      <td>1.712</td>\n",
       "      <td>1.763</td>\n",
       "    </tr>\n",
       "    <tr>\n",
       "      <th>1</th>\n",
       "      <td>8.2</td>\n",
       "      <td>9.7</td>\n",
       "      <td>10.2</td>\n",
       "      <td>1.346</td>\n",
       "      <td>1.473</td>\n",
       "      <td>1.554</td>\n",
       "    </tr>\n",
       "    <tr>\n",
       "      <th>2</th>\n",
       "      <td>10.2</td>\n",
       "      <td>11.6</td>\n",
       "      <td>12.2</td>\n",
       "      <td>1.290</td>\n",
       "      <td>1.366</td>\n",
       "      <td>1.420</td>\n",
       "    </tr>\n",
       "    <tr>\n",
       "      <th>3</th>\n",
       "      <td>12.1</td>\n",
       "      <td>13.2</td>\n",
       "      <td>13.8</td>\n",
       "      <td>1.097</td>\n",
       "      <td>1.322</td>\n",
       "      <td>1.388</td>\n",
       "    </tr>\n",
       "    <tr>\n",
       "      <th>4</th>\n",
       "      <td>13.4</td>\n",
       "      <td>13.8</td>\n",
       "      <td>14.3</td>\n",
       "      <td>1.259</td>\n",
       "      <td>1.310</td>\n",
       "      <td>1.356</td>\n",
       "    </tr>\n",
       "    <tr>\n",
       "      <th>5</th>\n",
       "      <td>16.0</td>\n",
       "      <td>16.0</td>\n",
       "      <td>16.0</td>\n",
       "      <td>1.149</td>\n",
       "      <td>1.250</td>\n",
       "      <td>1.309</td>\n",
       "    </tr>\n",
       "  </tbody>\n",
       "</table>\n",
       "</div>"
      ],
      "text/plain": [
       "   Plow  P(GPa)  Phigh   Tlow   T(K)  Thigh\n",
       "0   6.2     7.6    8.0  1.540  1.712  1.763\n",
       "1   8.2     9.7   10.2  1.346  1.473  1.554\n",
       "2  10.2    11.6   12.2  1.290  1.366  1.420\n",
       "3  12.1    13.2   13.8  1.097  1.322  1.388\n",
       "4  13.4    13.8   14.3  1.259  1.310  1.356\n",
       "5  16.0    16.0   16.0  1.149  1.250  1.309"
      ]
     },
     "execution_count": 2,
     "metadata": {},
     "output_type": "execute_result"
    }
   ],
   "source": [
    "df = pd.read_csv('test.dat')\n",
    "df"
   ]
  },
  {
   "cell_type": "code",
   "execution_count": 3,
   "id": "fb0d6edb-aae0-4909-958e-6dcc8b695aca",
   "metadata": {},
   "outputs": [
    {
     "data": {
      "text/plain": [
       "<matplotlib.legend.Legend at 0x7f1059976430>"
      ]
     },
     "execution_count": 3,
     "metadata": {},
     "output_type": "execute_result"
    },
    {
     "data": {
      "image/png": "[encoded data removed]",
      "text/plain": [
       "<Figure size 432x288 with 1 Axes>"
      ]
     },
     "metadata": {
      "needs_background": "light"
     },
     "output_type": "display_data"
    }
   ],
   "source": [
    "fig, ax = plt.subplots()\n",
    "ax.plot(df['P(GPa)'], df['T(K)'], '-o', label='Some data')\n",
    "ax.set_xlabel('Pressure (GPa)')\n",
    "ax.set_ylabel('T (K)')\n",
    "ax.legend()"
   ]
  }
 ],
 "metadata": {
  "kernelspec": {
   "display_name": "Python 3 (ipykernel)",
   "language": "python",
   "name": "python3"
  },
  "language_info": {
   "codemirror_mode": {
    "name": "ipython",
    "version": 3
   },
   "file_extension": ".py",
   "mimetype": "text/x-python",
   "name": "python",
   "nbconvert_exporter": "python",
   "pygments_lexer": "ipython3",
   "version": "3.9.2"
  }
 },
 "nbformat": 4,
 "nbformat_minor": 5
}
